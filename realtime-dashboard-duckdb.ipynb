{
 "cells": [
  {
   "cell_type": "code",
   "execution_count": 1,
   "id": "57b41c61-f3ca-41af-ad04-8baa343496b0",
   "metadata": {},
   "outputs": [],
   "source": [
    "import duckdb\n",
    "import threading\n",
    "import random\n",
    "import time\n",
    "import datetime\n",
    "import gradio as gr\n",
    "import plotly.graph_objects as go\n",
    "\n",
    "loop_count = 0\n",
    "should_continue = True\n",
    "\n",
    "output_text = \"Initializing...\""
   ]
  },
  {
   "cell_type": "code",
   "execution_count": 2,
   "id": "77dfc485-ef7a-4730-98a3-5ae0409fe203",
   "metadata": {},
   "outputs": [],
   "source": [
    "def setup_database():\n",
    "    conn = duckdb.connect(database='iot_data.db')\n",
    "    conn.execute(\"\"\"\n",
    "        DROP TABLE IF EXISTS raw_data;\n",
    "        DROP VIEW IF EXISTS summary;\n",
    "    \"\"\")\n",
    "    conn.execute(\"\"\"\n",
    "        CREATE TABLE IF NOT EXISTS raw_data (\n",
    "            device_id INTEGER,\n",
    "            temperature REAL,\n",
    "            timestamp TIMESTAMP\n",
    "        )\n",
    "    \"\"\")\n",
    "    conn.execute(\"\"\"\n",
    "        CREATE VIEW summary AS \n",
    "            SELECT \n",
    "                device_id as device,\n",
    "                AVG(temperature) as avg_temp,\n",
    "                DATE_TRUNC('day', timestamp) as date\n",
    "            FROM \n",
    "                raw_data\n",
    "            GROUP BY\n",
    "                device_id, DATE_TRUNC('day', timestamp)\n",
    "    \"\"\")\n",
    "\n",
    "    conn.close()"
   ]
  },
  {
   "cell_type": "code",
   "execution_count": 3,
   "id": "6090c1f2-d002-454f-a146-90cc21bff96e",
   "metadata": {},
   "outputs": [],
   "source": [
    "# Thread for data ingestion\n",
    "def data_ingestion_thread():\n",
    "    global should_continue\n",
    "    conn = duckdb.connect(database='iot_data.db')\n",
    "    while should_continue:\n",
    "        # Simulate data ingestion from IoT devices\n",
    "        device_id = random.randint(1, 35)\n",
    "        temperature = random.uniform(16, 42)\n",
    "        random_timestamp = get_random_date()\n",
    "\n",
    "        conn.begin()\n",
    "        conn.execute(\"INSERT INTO raw_data (device_id, temperature, timestamp) VALUES (?, ?, ?)\", (device_id, temperature, random_timestamp))\n",
    "        conn.commit()\n",
    "        time.sleep(1)\n",
    "    conn.close()"
   ]
  },
  {
   "cell_type": "code",
   "execution_count": 4,
   "id": "ae30bc25-dc0b-4b24-9cbc-5b395c4c6caf",
   "metadata": {},
   "outputs": [],
   "source": [
    "def query_data_count():\n",
    "    global loop_count, should_continue, output_text\n",
    "    conn = duckdb.connect(database='iot_data.db')\n",
    "    while loop_count < 2000 and should_continue:\n",
    "        result = conn.execute(\"SELECT distinct device, avg_temp ,date FROM summary order by device,date\").fetchall()\n",
    "        output_text = format_results(result)\n",
    "        loop_count += 1\n",
    "        time.sleep(1)\n",
    "    conn.close()\n",
    "\n",
    "    output_text = output_text + \"\\nProcessing Complete\"\n",
    "    should_continue = False\n",
    "\n",
    "def get_random_date():\n",
    "    today = datetime.datetime.now()\n",
    "    days_back = 180  \n",
    "    random_days = random.randint(0, days_back)  # Generates a random number of days\n",
    "    random_date = today - datetime.timedelta(days=random_days)\n",
    "    return random_date\n",
    "\n",
    "# Formats our output data\n",
    "def format_results(results):\n",
    "    output_text = f\"Summary Data\\n{'Device ID':<23}{'AVG Temp':<23}{'Date'}\\n\"\n",
    "    for row in results:\n",
    "        device, avg_temp, ts = row\n",
    "        date_str = ts.strftime(\"%Y-%m-%d\") if ts is not None else \"N/A\"\n",
    "        output_text += f\"{device:<30}{avg_temp:<30.2f}{date_str}\\n\"\n",
    "    return output_text"
   ]
  },
  {
   "cell_type": "code",
   "execution_count": 5,
   "id": "7cbbc170-7a82-4b0f-a33d-dd3b243197b5",
   "metadata": {},
   "outputs": [],
   "source": [
    "# Returns the current value of output_text\n",
    "def get_output_text():\n",
    "    global output_text\n",
    "    return output_text\n",
    "\n",
    "# Gradio dashboard with Plotly integration\n",
    "def update_dashboard():\n",
    "    conn = duckdb.connect(database='iot_data.db')\n",
    "    result = conn.execute(\"SELECT device, AVG(avg_temp) as avg_temp FROM summary GROUP BY device ORDER BY device\").fetchall()\n",
    "    conn.close()\n",
    "    devices = [row[0] for row in result]\n",
    "    avg_temps = [row[1] for row in result]\n",
    "\n",
    "    fig = go.Figure(data=[\n",
    "        go.Bar(x=devices, y=avg_temps, text=avg_temps, textposition='auto', marker=dict(color='rgba(0, 123, 255, 0.6)'))\n",
    "    ])\n",
    "    fig.update_layout(\n",
    "        title='Average Temperature by Device',\n",
    "        xaxis_title='Device ID',\n",
    "        yaxis_title='Average Temperature (°C)',\n",
    "        template='plotly_white'\n",
    "    )\n",
    "    return fig\n",
    "\n",
    "def setup_gradio():\n",
    "    with gr.Blocks() as demo:\n",
    "        gr.Markdown(\"\"\"\n",
    "        # IoT Data Monitoring Dashboard\n",
    "        This dashboard provides a live view of IoT device data, including average temperatures per device.\n",
    "        \"\"\")\n",
    "        output_box = gr.Textbox(label=\"Output Text\", lines=10)\n",
    "        graph = gr.Plot(update_dashboard)\n",
    "\n",
    "        # refresh every 3 seconds\n",
    "        def update_output_text():\n",
    "            while True:\n",
    "                time.sleep(3)\n",
    "                yield get_output_text()\n",
    "\n",
    "        def update_graph():\n",
    "            while True:\n",
    "                time.sleep(3)\n",
    "                yield update_dashboard()\n",
    "\n",
    "        demo.load(update_output_text, None, output_box)\n",
    "        demo.load(update_graph, None, graph)\n",
    "\n",
    "    return demo"
   ]
  },
  {
   "cell_type": "code",
   "execution_count": 6,
   "id": "3e364955-be08-4ec3-a494-f2c83d10f2fb",
   "metadata": {},
   "outputs": [
    {
     "name": "stdout",
     "output_type": "stream",
     "text": [
      "* Running on local URL:  http://127.0.0.1:7860\n",
      "* To create a public link, set `share=True` in `launch()`.\n"
     ]
    },
    {
     "data": {
      "text/html": [
       "<div><iframe src=\"http://127.0.0.1:7860/\" width=\"1920\" height=\"1080\" allow=\"autoplay; camera; microphone; clipboard-read; clipboard-write;\" frameborder=\"0\" allowfullscreen></iframe></div>"
      ],
      "text/plain": [
       "<IPython.core.display.HTML object>"
      ]
     },
     "metadata": {},
     "output_type": "display_data"
    }
   ],
   "source": [
    "if __name__ == \"__main__\":\n",
    "    setup_database()\n",
    "\n",
    "    # Start threads\n",
    "    ingestion_thread = threading.Thread(target=data_ingestion_thread, daemon=True)\n",
    "    count_thread = threading.Thread(target=query_data_count, daemon=True)\n",
    "\n",
    "    ingestion_thread.start()\n",
    "    count_thread.start()\n",
    "\n",
    "    # Launch the Gradio app\n",
    "    app = setup_gradio()\n",
    "    app.launch(share=False, server_port=7860, height=1080, width=1920)"
   ]
  },
  {
   "cell_type": "code",
   "execution_count": null,
   "id": "11983cf0-c80c-4a2c-9e6f-d9f981cb7c73",
   "metadata": {},
   "outputs": [],
   "source": []
  }
 ],
 "metadata": {
  "kernelspec": {
   "display_name": "Python 3 (ipykernel)",
   "language": "python",
   "name": "python3"
  },
  "language_info": {
   "codemirror_mode": {
    "name": "ipython",
    "version": 3
   },
   "file_extension": ".py",
   "mimetype": "text/x-python",
   "name": "python",
   "nbconvert_exporter": "python",
   "pygments_lexer": "ipython3",
   "version": "3.13.5"
  }
 },
 "nbformat": 4,
 "nbformat_minor": 5
}
